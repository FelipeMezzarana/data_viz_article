{
 "cells": [
  {
   "cell_type": "markdown",
   "id": "3ac0340d",
   "metadata": {},
   "source": [
    "**Generating fake data**"
   ]
  },
  {
   "cell_type": "code",
   "execution_count": 65,
   "id": "1842dd4c",
   "metadata": {},
   "outputs": [
    {
     "data": {
      "text/html": [
       "<div>\n",
       "<style scoped>\n",
       "    .dataframe tbody tr th:only-of-type {\n",
       "        vertical-align: middle;\n",
       "    }\n",
       "\n",
       "    .dataframe tbody tr th {\n",
       "        vertical-align: top;\n",
       "    }\n",
       "\n",
       "    .dataframe thead th {\n",
       "        text-align: right;\n",
       "    }\n",
       "</style>\n",
       "<table border=\"1\" class=\"dataframe\">\n",
       "  <thead>\n",
       "    <tr style=\"text-align: right;\">\n",
       "      <th></th>\n",
       "      <th>date</th>\n",
       "      <th>name</th>\n",
       "      <th>email</th>\n",
       "      <th>text</th>\n",
       "    </tr>\n",
       "  </thead>\n",
       "  <tbody>\n",
       "    <tr>\n",
       "      <th>0</th>\n",
       "      <td>1981-04-07</td>\n",
       "      <td>Andrew Orr</td>\n",
       "      <td>cmendoza@example.net</td>\n",
       "      <td>Always data marriage body mission. If outside ...</td>\n",
       "    </tr>\n",
       "    <tr>\n",
       "      <th>1</th>\n",
       "      <td>2011-02-09</td>\n",
       "      <td>Sarah Burton</td>\n",
       "      <td>reesealexander@example.org</td>\n",
       "      <td>Important international under choice civil.\\nC...</td>\n",
       "    </tr>\n",
       "    <tr>\n",
       "      <th>2</th>\n",
       "      <td>1978-03-30</td>\n",
       "      <td>Caitlin Allison</td>\n",
       "      <td>kristin92@example.org</td>\n",
       "      <td>Adult own positive consider so. Force finish l...</td>\n",
       "    </tr>\n",
       "    <tr>\n",
       "      <th>3</th>\n",
       "      <td>1990-06-06</td>\n",
       "      <td>Bruce Ramirez</td>\n",
       "      <td>jennifertucker@example.net</td>\n",
       "      <td>Else than radio son.\\nMission with card fine s...</td>\n",
       "    </tr>\n",
       "    <tr>\n",
       "      <th>4</th>\n",
       "      <td>2015-10-27</td>\n",
       "      <td>Thomas Schmidt</td>\n",
       "      <td>angela07@example.com</td>\n",
       "      <td>Month stand something early writer himself. Mo...</td>\n",
       "    </tr>\n",
       "    <tr>\n",
       "      <th>5</th>\n",
       "      <td>1978-12-07</td>\n",
       "      <td>Justin Jones</td>\n",
       "      <td>emilyfrazier@example.net</td>\n",
       "      <td>Possible imagine project. Exactly building wel...</td>\n",
       "    </tr>\n",
       "    <tr>\n",
       "      <th>6</th>\n",
       "      <td>1977-06-27</td>\n",
       "      <td>Tasha Miller</td>\n",
       "      <td>vmora@example.org</td>\n",
       "      <td>Personal land perhaps arm drug. Why choose aga...</td>\n",
       "    </tr>\n",
       "    <tr>\n",
       "      <th>7</th>\n",
       "      <td>1997-06-19</td>\n",
       "      <td>William Armstrong</td>\n",
       "      <td>jonathanferguson@example.org</td>\n",
       "      <td>Ahead establish PM require run. News student r...</td>\n",
       "    </tr>\n",
       "    <tr>\n",
       "      <th>8</th>\n",
       "      <td>2020-11-28</td>\n",
       "      <td>Paige Richardson</td>\n",
       "      <td>uaguilar@example.com</td>\n",
       "      <td>Son base change newspaper step their. Ask both...</td>\n",
       "    </tr>\n",
       "    <tr>\n",
       "      <th>9</th>\n",
       "      <td>2011-07-24</td>\n",
       "      <td>Jeffrey Fisher</td>\n",
       "      <td>diane95@example.net</td>\n",
       "      <td>Them those entire challenge long style small. ...</td>\n",
       "    </tr>\n",
       "  </tbody>\n",
       "</table>\n",
       "</div>"
      ],
      "text/plain": [
       "         date               name                         email  \\\n",
       "0  1981-04-07         Andrew Orr          cmendoza@example.net   \n",
       "1  2011-02-09       Sarah Burton    reesealexander@example.org   \n",
       "2  1978-03-30    Caitlin Allison         kristin92@example.org   \n",
       "3  1990-06-06      Bruce Ramirez    jennifertucker@example.net   \n",
       "4  2015-10-27     Thomas Schmidt          angela07@example.com   \n",
       "5  1978-12-07       Justin Jones      emilyfrazier@example.net   \n",
       "6  1977-06-27       Tasha Miller             vmora@example.org   \n",
       "7  1997-06-19  William Armstrong  jonathanferguson@example.org   \n",
       "8  2020-11-28   Paige Richardson          uaguilar@example.com   \n",
       "9  2011-07-24     Jeffrey Fisher           diane95@example.net   \n",
       "\n",
       "                                                text  \n",
       "0  Always data marriage body mission. If outside ...  \n",
       "1  Important international under choice civil.\\nC...  \n",
       "2  Adult own positive consider so. Force finish l...  \n",
       "3  Else than radio son.\\nMission with card fine s...  \n",
       "4  Month stand something early writer himself. Mo...  \n",
       "5  Possible imagine project. Exactly building wel...  \n",
       "6  Personal land perhaps arm drug. Why choose aga...  \n",
       "7  Ahead establish PM require run. News student r...  \n",
       "8  Son base change newspaper step their. Ask both...  \n",
       "9  Them those entire challenge long style small. ...  "
      ]
     },
     "execution_count": 65,
     "metadata": {},
     "output_type": "execute_result"
    }
   ],
   "source": [
    "import pandas as pd\n",
    "from faker import Faker\n",
    "\n",
    "# Create an Faker object\n",
    "fake = Faker()\n",
    "\n",
    "# Now you have many options to genarate data:\n",
    "fake.name()\n",
    "fake.text()\n",
    "fake.address()\n",
    "fake.email()\n",
    "fake.date()\n",
    "fake.country()\n",
    "fake.phone_number()\n",
    "fake.random_number(digits=5)\n",
    "\n",
    "# let's generate an example DataFrame\n",
    "faker_df = pd.DataFrame({'date':[fake.date() for i in range(10)],\n",
    "                         'name':[fake.name() for i in range(10)],\n",
    "                         'email':[fake.email() for i in range(10)],\n",
    "                         'text':[fake.text() for i in range(10)]})\n",
    "faker_df"
   ]
  },
  {
   "cell_type": "markdown",
   "id": "baa5195d",
   "metadata": {},
   "source": [
    "**Renaming columns**"
   ]
  },
  {
   "cell_type": "code",
   "execution_count": null,
   "id": "98dd8e51",
   "metadata": {},
   "outputs": [],
   "source": [
    "import re \n",
    "from unidecode import unidecode\n",
    "\n",
    "def rename_columns(df):\n",
    "    \"\"\"Standardizes the column name of any df to snake_case pattern.\n",
    "    \"\"\"\n",
    "    for col in df.columns:\n",
    "        new_col_name = re.sub('\\W','',unidecode(col.lower().strip().replace(' ','_')))\n",
    "        df.rename(columns = {col:new_col_name}, inplace = True)\n",
    "\n",
    "# Understanding the code:\n",
    "# re.sub('\\W','','string!@#') -- remove any non alphanumeric character. Return 'string'\n",
    "# unidecode('áçê') -- Remove accents and special caracters. Return 'ace'\n",
    "# 'STRING'.lower() -- transform to lowercase. Return 'string'\n",
    "# ' string '.strip() -- remove whitespaces at the beginning and end of the string. Return 'string'\n",
    "# 'my string'.replace(' ','_') -- replace all ' ' for '_'. Return 'my_string'"
   ]
  },
  {
   "cell_type": "markdown",
   "id": "73c31624",
   "metadata": {},
   "source": [
    "**Loading bar**"
   ]
  },
  {
   "cell_type": "code",
   "execution_count": 63,
   "id": "7a885a3f",
   "metadata": {},
   "outputs": [],
   "source": [
    "import time\n",
    "\n",
    "def any_func_with_loop(): \n",
    "    t_start = time.perf_counter()\n",
    "    \n",
    "    list_to_loop = [i for i in range(333)]\n",
    "    percentage_counter = 0 # Used to not repeat the same percentage\n",
    "    loop_counter = 0\n",
    "    \n",
    "    for item in list_to_loop:\n",
    "        \n",
    "        # Your code here\n",
    "        time.sleep(0.3)\n",
    "        \n",
    "        # Code to track execution progress\n",
    "        loop_counter+=1\n",
    "        # Calculate approximate progress (%)\n",
    "        percentage = round(100*(loop_counter)/len(list_to_loop),0) \n",
    "        # Print from 10% to 10%\n",
    "        if percentage%10 ==0:\n",
    "            # Ensures rounded % will not be printed twice\n",
    "            if percentage_counter !=percentage:\n",
    "                t_prov = time.perf_counter()\n",
    "                time_elapsed = t_prov -t_start\n",
    "                time_estimated = (100*time_elapsed/percentage)-time_elapsed\n",
    "                print(f'Status: {percentage:.0f}% Completed! -> '\n",
    "                      f'Elapsed time:{time_elapsed:.2f}s or {time_elapsed/60:.2f}min. | '\n",
    "                      f'Estimated time: {time_estimated:.2f}s or {time_estimated/60:.2f}min')\n",
    "                percentage_counter = percentage\n",
    "                "
   ]
  },
  {
   "cell_type": "code",
   "execution_count": 64,
   "id": "5959c82e",
   "metadata": {},
   "outputs": [
    {
     "name": "stdout",
     "output_type": "stream",
     "text": [
      "Status: 10% Completed! -> Elapsed time:9.87s or 0.16min. | Estimated time: 88.81s or 1.48min\n",
      "Status: 20% Completed! -> Elapsed time:20.03s or 0.33min. | Estimated time: 80.11s or 1.34min\n",
      "Status: 30% Completed! -> Elapsed time:30.54s or 0.51min. | Estimated time: 71.27s or 1.19min\n",
      "Status: 40% Completed! -> Elapsed time:40.74s or 0.68min. | Estimated time: 61.10s or 1.02min\n",
      "Status: 50% Completed! -> Elapsed time:50.90s or 0.85min. | Estimated time: 50.90s or 0.85min\n",
      "Status: 60% Completed! -> Elapsed time:61.38s or 1.02min. | Estimated time: 40.92s or 0.68min\n",
      "Status: 70% Completed! -> Elapsed time:71.55s or 1.19min. | Estimated time: 30.66s or 0.51min\n",
      "Status: 80% Completed! -> Elapsed time:81.72s or 1.36min. | Estimated time: 20.43s or 0.34min\n",
      "Status: 90% Completed! -> Elapsed time:92.21s or 1.54min. | Estimated time: 10.25s or 0.17min\n",
      "Status: 100% Completed! -> Elapsed time:102.40s or 1.71min. | Estimated time: 0.00s or 0.00min\n"
     ]
    }
   ],
   "source": [
    "any_func_with_loop()"
   ]
  },
  {
   "cell_type": "code",
   "execution_count": null,
   "id": "e3a8a8e1",
   "metadata": {},
   "outputs": [],
   "source": []
  }
 ],
 "metadata": {
  "kernelspec": {
   "display_name": "Python 3 (ipykernel)",
   "language": "python",
   "name": "python3"
  },
  "language_info": {
   "codemirror_mode": {
    "name": "ipython",
    "version": 3
   },
   "file_extension": ".py",
   "mimetype": "text/x-python",
   "name": "python",
   "nbconvert_exporter": "python",
   "pygments_lexer": "ipython3",
   "version": "3.9.7"
  },
  "toc": {
   "base_numbering": 1,
   "nav_menu": {},
   "number_sections": true,
   "sideBar": true,
   "skip_h1_title": false,
   "title_cell": "Table of Contents",
   "title_sidebar": "Contents",
   "toc_cell": false,
   "toc_position": {},
   "toc_section_display": true,
   "toc_window_display": false
  },
  "varInspector": {
   "cols": {
    "lenName": 16,
    "lenType": 16,
    "lenVar": 40
   },
   "kernels_config": {
    "python": {
     "delete_cmd_postfix": "",
     "delete_cmd_prefix": "del ",
     "library": "var_list.py",
     "varRefreshCmd": "print(var_dic_list())"
    },
    "r": {
     "delete_cmd_postfix": ") ",
     "delete_cmd_prefix": "rm(",
     "library": "var_list.r",
     "varRefreshCmd": "cat(var_dic_list()) "
    }
   },
   "types_to_exclude": [
    "module",
    "function",
    "builtin_function_or_method",
    "instance",
    "_Feature"
   ],
   "window_display": false
  }
 },
 "nbformat": 4,
 "nbformat_minor": 5
}
